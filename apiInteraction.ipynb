{
 "cells": [
  {
   "cell_type": "code",
   "execution_count": 5,
   "metadata": {},
   "outputs": [],
   "source": [
    "import json\n",
    "import requests"
   ]
  },
  {
   "cell_type": "code",
   "execution_count": 4,
   "metadata": {},
   "outputs": [
    {
     "data": {
      "text/plain": [
       "'[{\"id\":1,\"player_alias\":\"test_player\",\"player_score\":2},{\"id\":4,\"player_alias\":\"test_player\",\"player_score\":4}]'"
      ]
     },
     "execution_count": 4,
     "metadata": {},
     "output_type": "execute_result"
    }
   ],
   "source": [
    "response = requests.get(\"https://psytests.be/tests/day_of_science/api/\")\n",
    "\n",
    "response.text"
   ]
  },
  {
   "cell_type": "code",
   "execution_count": 28,
   "metadata": {},
   "outputs": [],
   "source": [
    "class ScienceDayAPI:\n",
    "    def __init__(self, url: str) -> None:\n",
    "        self.url = url\n",
    "        self.participants = self.getParticipants()\n",
    "\n",
    "    def getParticipants(self) -> dict:\n",
    "        \"\"\"Returns a dictionary with the id of the participants as keys for all participants\n",
    "        \"\"\"\n",
    "        dataApi = json.loads(requests.get(self.url).text)\n",
    "\n",
    "        results = {}\n",
    "        for instance in dataApi:\n",
    "            results[instance['id']] = {'player_alias':instance['player_alias'], 'player_score':instance['player_score']}\n",
    "\n",
    "        return results\n",
    "    \n",
    "    def getNewParticipants(self) -> dict:\n",
    "        \"\"\"Returns all participants that were added to the API\n",
    "        \"\"\"\n",
    "        updatedParticipants = self.getParticipants()\n",
    "\n",
    "        s = set(self.participants.keys())\n",
    "        difference = [x for x in updatedParticipants if x not in s]\n",
    "\n",
    "        results = {}\n",
    "        for id in difference:\n",
    "            results[id] = updatedParticipants[id]\n",
    "\n",
    "        return results\n",
    "    \n",
    "    def updateParticipants(self) -> None:\n",
    "        self.participants = self.getParticipants()\n",
    "\n",
    "sda = ScienceDayAPI(\"https://psytests.be/tests/day_of_science/api/\")"
   ]
  },
  {
   "cell_type": "code",
   "execution_count": 37,
   "metadata": {},
   "outputs": [
    {
     "name": "stdout",
     "output_type": "stream",
     "text": [
      "{}\n"
     ]
    }
   ],
   "source": [
    "newPart = sda.getNewParticipants()\n",
    "sda.updateParticipants()\n",
    "\n",
    "print(newPart)"
   ]
  }
 ],
 "metadata": {
  "kernelspec": {
   "display_name": "Python 3",
   "language": "python",
   "name": "python3"
  },
  "language_info": {
   "codemirror_mode": {
    "name": "ipython",
    "version": 3
   },
   "file_extension": ".py",
   "mimetype": "text/x-python",
   "name": "python",
   "nbconvert_exporter": "python",
   "pygments_lexer": "ipython3",
   "version": "3.11.3"
  }
 },
 "nbformat": 4,
 "nbformat_minor": 2
}
